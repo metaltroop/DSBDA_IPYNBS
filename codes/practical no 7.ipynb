{
 "cells": [
  {
   "cell_type": "code",
   "execution_count": 1,
   "metadata": {
    "colab": {
     "base_uri": "https://localhost:8080/"
    },
    "executionInfo": {
     "elapsed": 2124,
     "status": "ok",
     "timestamp": 1713635554081,
     "user": {
      "displayName": "Freelancify Sphere",
      "userId": "03475432759040184572"
     },
     "user_tz": -330
    },
    "id": "rS5UdY9jmqr8",
    "outputId": "659d13cd-3e3c-4779-ce54-466b2477669f",
    "tags": []
   },
   "outputs": [
    {
     "name": "stderr",
     "output_type": "stream",
     "text": [
      "[nltk_data] Downloading package punkt to\n",
      "[nltk_data]     C:\\Users\\Admin\\AppData\\Roaming\\nltk_data...\n",
      "[nltk_data]   Unzipping tokenizers\\punkt.zip.\n",
      "[nltk_data] Downloading package stopwords to\n",
      "[nltk_data]     C:\\Users\\Admin\\AppData\\Roaming\\nltk_data...\n",
      "[nltk_data]   Unzipping corpora\\stopwords.zip.\n",
      "[nltk_data] Downloading package wordnet to\n",
      "[nltk_data]     C:\\Users\\Admin\\AppData\\Roaming\\nltk_data...\n",
      "[nltk_data] Downloading package averaged_perceptron_tagger to\n",
      "[nltk_data]     C:\\Users\\Admin\\AppData\\Roaming\\nltk_data...\n",
      "[nltk_data]   Unzipping taggers\\averaged_perceptron_tagger.zip.\n"
     ]
    },
    {
     "data": {
      "text/plain": [
       "True"
      ]
     },
     "execution_count": 1,
     "metadata": {},
     "output_type": "execute_result"
    }
   ],
   "source": [
    "import nltk\n",
    "nltk.download('punkt')\n",
    "nltk.download('stopwords')\n",
    "nltk.download('wordnet')\n",
    "nltk.download('averaged_perceptron_tagger')"
   ]
  },
  {
   "cell_type": "code",
   "execution_count": 2,
   "metadata": {
    "id": "yIa2xFQBmxz2",
    "tags": []
   },
   "outputs": [],
   "source": [
    "text= \"Tokenization is the first step in text analytics. The process of breaking down a text paragraph into smaller chunks such as words or sentences is called Tokenization.\"\n"
   ]
  },
  {
   "cell_type": "code",
   "execution_count": 3,
   "metadata": {
    "colab": {
     "base_uri": "https://localhost:8080/"
    },
    "executionInfo": {
     "elapsed": 7,
     "status": "ok",
     "timestamp": 1713635575081,
     "user": {
      "displayName": "Freelancify Sphere",
      "userId": "03475432759040184572"
     },
     "user_tz": -330
    },
    "id": "qQPLchMbo56W",
    "outputId": "343d2a9f-ef1d-4b96-bab2-65a88fe94eeb",
    "tags": []
   },
   "outputs": [
    {
     "name": "stdout",
     "output_type": "stream",
     "text": [
      "['Tokenization is the first step in text analytics.', 'The process of breaking down a text paragraph into smaller chunks such as words or sentences is called Tokenization.']\n"
     ]
    }
   ],
   "source": [
    "from nltk.tokenize import sent_tokenize, word_tokenize\n",
    "tokenized_text = sent_tokenize(text)\n",
    "print(tokenized_text)"
   ]
  },
  {
   "cell_type": "code",
   "execution_count": 4,
   "metadata": {
    "colab": {
     "base_uri": "https://localhost:8080/"
    },
    "executionInfo": {
     "elapsed": 621,
     "status": "ok",
     "timestamp": 1713635617964,
     "user": {
      "displayName": "Freelancify Sphere",
      "userId": "03475432759040184572"
     },
     "user_tz": -330
    },
    "id": "jxLI2nWho7-1",
    "outputId": "43beb9d0-33f6-4886-bed4-e1a15737e483",
    "tags": []
   },
   "outputs": [
    {
     "name": "stdout",
     "output_type": "stream",
     "text": [
      "['Tokenization', 'is', 'the', 'first', 'step', 'in', 'text', 'analytics', '.', 'The', 'process', 'of', 'breaking', 'down', 'a', 'text', 'paragraph', 'into', 'smaller', 'chunks', 'such', 'as', 'words', 'or', 'sentences', 'is', 'called', 'Tokenization', '.']\n"
     ]
    }
   ],
   "source": [
    "tokenized_word = word_tokenize(text)\n",
    "print(tokenized_word)"
   ]
  },
  {
   "cell_type": "code",
   "execution_count": 5,
   "metadata": {
    "id": "EtBrgmGHpJKG",
    "tags": []
   },
   "outputs": [],
   "source": [
    "from nltk.corpus import stopwords\n",
    "import re"
   ]
  },
  {
   "cell_type": "code",
   "execution_count": 6,
   "metadata": {
    "colab": {
     "base_uri": "https://localhost:8080/"
    },
    "executionInfo": {
     "elapsed": 6,
     "status": "ok",
     "timestamp": 1713635646519,
     "user": {
      "displayName": "Freelancify Sphere",
      "userId": "03475432759040184572"
     },
     "user_tz": -330
    },
    "id": "RmN4iCKvpJtT",
    "outputId": "9005ecc3-9c09-47e7-c9ca-3b8a3fbc511f",
    "tags": []
   },
   "outputs": [
    {
     "name": "stdout",
     "output_type": "stream",
     "text": [
      "{'if', \"you'll\", 'was', 'these', 'we', 'during', 'same', 'against', 'yours', \"don't\", 'ourselves', \"mightn't\", \"wasn't\", \"doesn't\", 'themselves', 'each', 'out', 'both', 'yourself', 'some', 'hers', 'more', 'above', 'they', 'few', 'its', 'what', 'there', 'until', 'doesn', 'over', 'hasn', 'theirs', 'on', 'd', 'so', 're', 'very', 'which', 'won', 'and', 'them', 'down', 'that', 'she', 'couldn', \"couldn't\", 'or', 'once', 'don', 'their', 'can', 'needn', 'o', 'is', 'been', 'myself', 'herself', 'didn', 'll', 'through', 'i', 'of', \"mustn't\", \"aren't\", 'ain', 'shouldn', 'aren', 'weren', 'mustn', 'all', 'most', \"she's\", \"needn't\", 'just', 'are', 'at', 'off', 'this', 'for', 'were', 'nor', 'will', 't', 'itself', \"should've\", 'my', \"didn't\", 'should', 'ours', 'has', 's', 'when', 'your', 'wouldn', 'his', 'no', 'he', 'to', 'himself', 'wasn', 'but', \"it's\", 'now', 'because', 'between', 'who', 'by', 'the', 'those', \"shouldn't\", 'in', 'hadn', 'her', \"weren't\", 'haven', 'while', 'isn', 'yourselves', 'then', 'where', 'any', 'from', \"isn't\", 'him', \"wouldn't\", 'whom', 'having', 've', 'had', \"won't\", 'up', \"hasn't\", \"hadn't\", 'm', 'here', 'a', 'with', 'below', \"you're\", 'only', \"you've\", 'does', 'after', 'me', 'y', \"shan't\", 'have', 'about', 'mightn', 'not', 'doing', 'you', 'than', 'shan', 'under', 'into', 'such', 'did', 'am', 'other', 'again', 'why', 'ma', 'further', 'do', \"that'll\", 'being', 'as', 'before', 'own', \"haven't\", \"you'd\", 'our', 'an', 'be', 'it', 'how', 'too'}\n"
     ]
    }
   ],
   "source": [
    "stop_words = set(stopwords.words(\"english\"))\n",
    "print(stop_words)"
   ]
  },
  {
   "cell_type": "code",
   "execution_count": 7,
   "metadata": {
    "colab": {
     "base_uri": "https://localhost:8080/"
    },
    "executionInfo": {
     "elapsed": 6,
     "status": "ok",
     "timestamp": 1713635664338,
     "user": {
      "displayName": "Freelancify Sphere",
      "userId": "03475432759040184572"
     },
     "user_tz": -330
    },
    "id": "XBbWzgXrpNJM",
    "outputId": "d44fde76-5972-4c9c-cb91-353b8126cd29",
    "tags": []
   },
   "outputs": [
    {
     "name": "stdout",
     "output_type": "stream",
     "text": [
      "Tokenized Sentence: ['how', 'to', 'remove', 'stop', 'words', 'with', 'nltk', 'library', 'in', 'python']\n",
      "Filtered Sentence: ['remove', 'stop', 'words', 'nltk', 'library', 'python']\n"
     ]
    }
   ],
   "source": [
    "text = \"How to remove stop words with NLTK library in Python?\"\n",
    "text = re.sub('[^a-zA-Z]', ' ', text)\n",
    "tokens = word_tokenize(text.lower())\n",
    "filtered_text = [w for w in tokens if w not in stop_words]\n",
    "print(\"Tokenized Sentence:\", tokens)\n",
    "print(\"Filtered Sentence:\", filtered_text)"
   ]
  },
  {
   "cell_type": "code",
   "execution_count": 8,
   "metadata": {
    "id": "E2h29djCpRda",
    "tags": []
   },
   "outputs": [],
   "source": [
    "from nltk.stem import PorterStemmer\n"
   ]
  },
  {
   "cell_type": "code",
   "execution_count": 9,
   "metadata": {
    "colab": {
     "base_uri": "https://localhost:8080/"
    },
    "executionInfo": {
     "elapsed": 4,
     "status": "ok",
     "timestamp": 1713635693807,
     "user": {
      "displayName": "Freelancify Sphere",
      "userId": "03475432759040184572"
     },
     "user_tz": -330
    },
    "id": "8qTP5c9ipW1i",
    "outputId": "76a894f5-8b7c-47c9-8604-29c4f9e398b5",
    "tags": []
   },
   "outputs": [
    {
     "name": "stdout",
     "output_type": "stream",
     "text": [
      "wait\n",
      "wait\n",
      "wait\n",
      "wait\n"
     ]
    }
   ],
   "source": [
    "e_words = [\"wait\", \"waiting\", \"waited\", \"waits\"]\n",
    "ps = PorterStemmer()\n",
    "for w in e_words:\n",
    "    rootWord = ps.stem(w)\n",
    "    print(rootWord)"
   ]
  },
  {
   "cell_type": "code",
   "execution_count": 10,
   "metadata": {
    "id": "kv_cAOutpZCl",
    "tags": []
   },
   "outputs": [],
   "source": [
    "from nltk.stem import WordNetLemmatizer"
   ]
  },
  {
   "cell_type": "code",
   "execution_count": 11,
   "metadata": {
    "colab": {
     "base_uri": "https://localhost:8080/"
    },
    "executionInfo": {
     "elapsed": 1454,
     "status": "ok",
     "timestamp": 1713635727291,
     "user": {
      "displayName": "Freelancify Sphere",
      "userId": "03475432759040184572"
     },
     "user_tz": -330
    },
    "id": "2sfu2no3pbe1",
    "outputId": "c7402349-f593-40ae-98e8-cee2565adfb3",
    "tags": []
   },
   "outputs": [
    {
     "name": "stdout",
     "output_type": "stream",
     "text": [
      "Lemma for studies is study\n",
      "Lemma for studying is studying\n",
      "Lemma for cries is cry\n",
      "Lemma for cry is cry\n"
     ]
    }
   ],
   "source": [
    "wordnet_lemmatizer = WordNetLemmatizer()\n",
    "text = \"studies studying cries cry\"\n",
    "tokenization = nltk.word_tokenize(text)\n",
    "for w in tokenization:\n",
    "    print(\"Lemma for {} is {}\".format(w, wordnet_lemmatizer.lemmatize(w)))"
   ]
  },
  {
   "cell_type": "code",
   "execution_count": 12,
   "metadata": {
    "colab": {
     "base_uri": "https://localhost:8080/"
    },
    "executionInfo": {
     "elapsed": 4,
     "status": "ok",
     "timestamp": 1713635743404,
     "user": {
      "displayName": "Freelancify Sphere",
      "userId": "03475432759040184572"
     },
     "user_tz": -330
    },
    "id": "Qz4GyIsFpgyw",
    "outputId": "75aac1f0-90bd-45f0-de44-3f699d539c97",
    "tags": []
   },
   "outputs": [
    {
     "name": "stdout",
     "output_type": "stream",
     "text": [
      "[('The', 'DT')]\n",
      "[('pink', 'NN')]\n",
      "[('sweater', 'NN')]\n",
      "[('fit', 'NN')]\n",
      "[('her', 'PRP$')]\n",
      "[('perfectly', 'RB')]\n"
     ]
    }
   ],
   "source": [
    "data = \"The pink sweater fit her perfectly\"\n",
    "words = word_tokenize(data)\n",
    "for word in words:\n",
    "    print(nltk.pos_tag([word]))"
   ]
  },
  {
   "cell_type": "code",
   "execution_count": 13,
   "metadata": {
    "id": "XeINXP46pxEr",
    "tags": []
   },
   "outputs": [],
   "source": [
    "import pandas as pd\n",
    "from sklearn.feature_extraction.text import TfidfVectorizer"
   ]
  },
  {
   "cell_type": "code",
   "execution_count": 14,
   "metadata": {
    "id": "iOZ7nXq5pxwo",
    "tags": []
   },
   "outputs": [],
   "source": [
    "documentA = 'Jupiter is the largest Planet'\n",
    "documentB = 'Mars is the fourth planet from the Sun'"
   ]
  },
  {
   "cell_type": "code",
   "execution_count": 15,
   "metadata": {
    "id": "oaBAXqYyp1c4",
    "tags": []
   },
   "outputs": [],
   "source": [
    "bagOfWordsA = documentA.split(' ')\n",
    "bagOfWordsB = documentB.split(' ')"
   ]
  },
  {
   "cell_type": "code",
   "execution_count": 16,
   "metadata": {
    "id": "WrBhhB3hp4GR",
    "tags": []
   },
   "outputs": [],
   "source": [
    "uniqueWords = set(bagOfWordsA).union(set(bagOfWordsB))"
   ]
  },
  {
   "cell_type": "code",
   "execution_count": 17,
   "metadata": {
    "id": "XjBugxvqp6k_",
    "tags": []
   },
   "outputs": [],
   "source": [
    "numOfWordsA = dict.fromkeys(uniqueWords, 0)\n",
    "for word in bagOfWordsA:\n",
    "    numOfWordsA[word] += 1\n",
    "\n",
    "numOfWordsB = dict.fromkeys(uniqueWords, 0)\n",
    "for word in bagOfWordsB:\n",
    "    numOfWordsB[word] += 1\n"
   ]
  },
  {
   "cell_type": "code",
   "execution_count": 18,
   "metadata": {
    "id": "KA8kFaopp87G",
    "tags": []
   },
   "outputs": [],
   "source": [
    "def computeTF(wordDict, bagOfWords):\n",
    "    tfDict = {}\n",
    "    bagOfWordsCount = len(bagOfWords)\n",
    "    for word, count in wordDict.items():\n",
    "        tfDict[word] = count / float(bagOfWordsCount)\n",
    "    return tfDict\n",
    "\n",
    "tfA = computeTF(numOfWordsA, bagOfWordsA)\n",
    "tfB = computeTF(numOfWordsB, bagOfWordsB)\n"
   ]
  },
  {
   "cell_type": "code",
   "execution_count": 19,
   "metadata": {
    "colab": {
     "base_uri": "https://localhost:8080/"
    },
    "executionInfo": {
     "elapsed": 509,
     "status": "ok",
     "timestamp": 1713636166269,
     "user": {
      "displayName": "Freelancify Sphere",
      "userId": "03475432759040184572"
     },
     "user_tz": -330
    },
    "id": "wcxz6IW4qP6r",
    "outputId": "01e2032a-753c-4267-b369-0648ad307c48",
    "tags": []
   },
   "outputs": [
    {
     "name": "stdout",
     "output_type": "stream",
     "text": [
      "{'the': 0.0, 'Jupiter': 0.6931471805599453, 'Sun': 0.6931471805599453, 'fourth': 0.6931471805599453, 'from': 0.6931471805599453, 'largest': 0.6931471805599453, 'planet': 0.6931471805599453, 'Planet': 0.6931471805599453, 'is': 0.0, 'Mars': 0.6931471805599453}\n"
     ]
    }
   ],
   "source": [
    "def computeIDF(documents):\n",
    "    import math\n",
    "    N = len(documents)\n",
    "    idfDict = dict.fromkeys(documents[0].keys(), 0)\n",
    "    for document in documents:\n",
    "        for word, val in document.items():\n",
    "            if val > 0:\n",
    "                idfDict[word] += 1\n",
    "    for word, val in idfDict.items():\n",
    "        idfDict[word] = math.log(N / float(val))\n",
    "    return idfDict\n",
    "\n",
    "idfs = computeIDF([numOfWordsA, numOfWordsB])\n",
    "print(idfs)\n"
   ]
  },
  {
   "cell_type": "code",
   "execution_count": 20,
   "metadata": {
    "colab": {
     "base_uri": "https://localhost:8080/"
    },
    "executionInfo": {
     "elapsed": 506,
     "status": "ok",
     "timestamp": 1713636375686,
     "user": {
      "displayName": "Freelancify Sphere",
      "userId": "03475432759040184572"
     },
     "user_tz": -330
    },
    "id": "1XZ1CPdhqxig",
    "outputId": "01e56707-53f1-4a8d-cc4c-fbf7444fd163",
    "tags": []
   },
   "outputs": [
    {
     "name": "stdout",
     "output_type": "stream",
     "text": [
      "   the   Jupiter       Sun    fourth      from   largest    planet    Planet  \\\n",
      "0  0.0  0.138629  0.000000  0.000000  0.000000  0.138629  0.000000  0.138629   \n",
      "1  0.0  0.000000  0.086643  0.086643  0.086643  0.000000  0.086643  0.000000   \n",
      "\n",
      "    is      Mars  \n",
      "0  0.0  0.000000  \n",
      "1  0.0  0.086643  \n"
     ]
    }
   ],
   "source": [
    "def computeTFIDF(tfBagOfWords, idfs):\n",
    "    tfidf = {}\n",
    "    for word, val in tfBagOfWords.items():\n",
    "        tfidf[word] = val * idfs[word]\n",
    "    return tfidf\n",
    "\n",
    "tfidfA = computeTFIDF(tfA, idfs)\n",
    "tfidfB = computeTFIDF(tfB, idfs)\n",
    "df = pd.DataFrame([tfidfA, tfidfB])\n",
    "print(df)\n"
   ]
  },
  {
   "cell_type": "code",
   "execution_count": 21,
   "metadata": {
    "colab": {
     "base_uri": "https://localhost:8080/"
    },
    "executionInfo": {
     "elapsed": 5,
     "status": "ok",
     "timestamp": 1713636731939,
     "user": {
      "displayName": "Freelancify Sphere",
      "userId": "03475432759040184572"
     },
     "user_tz": -330
    },
    "id": "2_Lbnl26r_S3",
    "outputId": "7fda8500-d313-4912-a938-5067bfb404da",
    "tags": []
   },
   "outputs": [
    {
     "data": {
      "text/plain": [
       "{'the': 0.0,\n",
       " 'Jupiter': 0.13862943611198905,\n",
       " 'Sun': 0.0,\n",
       " 'fourth': 0.0,\n",
       " 'from': 0.0,\n",
       " 'largest': 0.13862943611198905,\n",
       " 'planet': 0.0,\n",
       " 'Planet': 0.13862943611198905,\n",
       " 'is': 0.0,\n",
       " 'Mars': 0.0}"
      ]
     },
     "execution_count": 21,
     "metadata": {},
     "output_type": "execute_result"
    }
   ],
   "source": [
    "tfidfA = computeTFIDF(tfA, idfs)\n",
    "tfidfA\n"
   ]
  },
  {
   "cell_type": "code",
   "execution_count": 22,
   "metadata": {
    "colab": {
     "base_uri": "https://localhost:8080/"
    },
    "executionInfo": {
     "elapsed": 5,
     "status": "ok",
     "timestamp": 1713636741423,
     "user": {
      "displayName": "Freelancify Sphere",
      "userId": "03475432759040184572"
     },
     "user_tz": -330
    },
    "id": "PNsmw3HDtWIJ",
    "outputId": "21394459-8338-43ef-a99c-241d091b843a",
    "tags": []
   },
   "outputs": [
    {
     "data": {
      "text/plain": [
       "{'the': 0.0,\n",
       " 'Jupiter': 0.0,\n",
       " 'Sun': 0.08664339756999316,\n",
       " 'fourth': 0.08664339756999316,\n",
       " 'from': 0.08664339756999316,\n",
       " 'largest': 0.0,\n",
       " 'planet': 0.08664339756999316,\n",
       " 'Planet': 0.0,\n",
       " 'is': 0.0,\n",
       " 'Mars': 0.08664339756999316}"
      ]
     },
     "execution_count": 22,
     "metadata": {},
     "output_type": "execute_result"
    }
   ],
   "source": [
    " tfidfB = computeTFIDF(tfB, idfs)\n",
    " tfidfB"
   ]
  },
  {
   "cell_type": "code",
   "execution_count": 23,
   "metadata": {
    "colab": {
     "base_uri": "https://localhost:8080/",
     "height": 125
    },
    "executionInfo": {
     "elapsed": 29,
     "status": "ok",
     "timestamp": 1713636755928,
     "user": {
      "displayName": "Freelancify Sphere",
      "userId": "03475432759040184572"
     },
     "user_tz": -330
    },
    "id": "V5VYfrgBtYhi",
    "outputId": "efddd0b2-f629-4fcb-eece-ab5518e2c39f",
    "tags": []
   },
   "outputs": [
    {
     "data": {
      "text/html": [
       "<div>\n",
       "<style scoped>\n",
       "    .dataframe tbody tr th:only-of-type {\n",
       "        vertical-align: middle;\n",
       "    }\n",
       "\n",
       "    .dataframe tbody tr th {\n",
       "        vertical-align: top;\n",
       "    }\n",
       "\n",
       "    .dataframe thead th {\n",
       "        text-align: right;\n",
       "    }\n",
       "</style>\n",
       "<table border=\"1\" class=\"dataframe\">\n",
       "  <thead>\n",
       "    <tr style=\"text-align: right;\">\n",
       "      <th></th>\n",
       "      <th>the</th>\n",
       "      <th>Jupiter</th>\n",
       "      <th>Sun</th>\n",
       "      <th>fourth</th>\n",
       "      <th>from</th>\n",
       "      <th>largest</th>\n",
       "      <th>planet</th>\n",
       "      <th>Planet</th>\n",
       "      <th>is</th>\n",
       "      <th>Mars</th>\n",
       "    </tr>\n",
       "  </thead>\n",
       "  <tbody>\n",
       "    <tr>\n",
       "      <th>0</th>\n",
       "      <td>0.0</td>\n",
       "      <td>0.138629</td>\n",
       "      <td>0.000000</td>\n",
       "      <td>0.000000</td>\n",
       "      <td>0.000000</td>\n",
       "      <td>0.138629</td>\n",
       "      <td>0.000000</td>\n",
       "      <td>0.138629</td>\n",
       "      <td>0.0</td>\n",
       "      <td>0.000000</td>\n",
       "    </tr>\n",
       "    <tr>\n",
       "      <th>1</th>\n",
       "      <td>0.0</td>\n",
       "      <td>0.000000</td>\n",
       "      <td>0.086643</td>\n",
       "      <td>0.086643</td>\n",
       "      <td>0.086643</td>\n",
       "      <td>0.000000</td>\n",
       "      <td>0.086643</td>\n",
       "      <td>0.000000</td>\n",
       "      <td>0.0</td>\n",
       "      <td>0.086643</td>\n",
       "    </tr>\n",
       "  </tbody>\n",
       "</table>\n",
       "</div>"
      ],
      "text/plain": [
       "   the   Jupiter       Sun    fourth      from   largest    planet    Planet  \\\n",
       "0  0.0  0.138629  0.000000  0.000000  0.000000  0.138629  0.000000  0.138629   \n",
       "1  0.0  0.000000  0.086643  0.086643  0.086643  0.000000  0.086643  0.000000   \n",
       "\n",
       "    is      Mars  \n",
       "0  0.0  0.000000  \n",
       "1  0.0  0.086643  "
      ]
     },
     "execution_count": 23,
     "metadata": {},
     "output_type": "execute_result"
    }
   ],
   "source": [
    " import pandas as pd\n",
    " df = pd.DataFrame([tfidfA, tfidfB])\n",
    " df"
   ]
  },
  {
   "cell_type": "code",
   "execution_count": null,
   "metadata": {
    "id": "qKBbKHqAtbi-"
   },
   "outputs": [],
   "source": []
  }
 ],
 "metadata": {
  "colab": {
   "authorship_tag": "ABX9TyNSB6dzNJAK0yEsCLqsMpUH",
   "provenance": []
  },
  "kernelspec": {
   "display_name": "Python 3 (ipykernel)",
   "language": "python",
   "name": "python3"
  },
  "language_info": {
   "codemirror_mode": {
    "name": "ipython",
    "version": 3
   },
   "file_extension": ".py",
   "mimetype": "text/x-python",
   "name": "python",
   "nbconvert_exporter": "python",
   "pygments_lexer": "ipython3",
   "version": "3.11.5"
  }
 },
 "nbformat": 4,
 "nbformat_minor": 4
}
